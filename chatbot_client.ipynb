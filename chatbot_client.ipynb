{
 "cells": [
  {
   "attachments": {},
   "cell_type": "markdown",
   "metadata": {},
   "source": [
    "## An Object-Oriented Chatbot using GPT and a Database\n",
    "This allows multiple chatbot types (e.g. a health coach and a learning assistant) to be created. Multiple chatbot instances can be created per chatbot type (e.g. for User X and User Y). Both, type and instance are stored and referenced with an ID (e.g. with a UUID) in the database.\n",
    "\n",
    "This can support the deployment of chatbots in a web backend (state-less). For example, the UUIDs of the type and instance can be read as URL parameters from a URL that users have received from you.\n",
    "\n",
    "A chatbot is created with the following arguments.\n",
    "- database_file: File of SQLite (in Folder data/)\n",
    "- type_id: Reference to chatbot type\n",
    "- instance_id: Reference to chatbot instance (typically one per user - however, may also be shared by multiple users)\n",
    "- type_role: Role of chatbot type (will be turned into a first prompt with role:system)\n",
    "- instance_context: Context of chatbot instance (will be turned into a second prompt with role:system)\n",
    "- instance_starter: Will be used to generate an initial message to the user (will be turned into a final prompt with role:system)\n",
    "\n",
    "The following functions are meant to be used from an application (e.g. from controllers of a REST API).\n",
    "- conversation_retrieve(with_system=False): Retrieve the previous conversation history (default: without prompts with role:system)\n",
    "- starter(): Returns an initial message to the user (Resulting from instance_starter prompt)\n",
    "- response_for(user_says): Returns an assistance response to user_says"
   ]
  },
  {
   "cell_type": "code",
   "execution_count": 74,
   "metadata": {},
   "outputs": [],
   "source": [
    "from chatbot_db import Chatbot"
   ]
  },
  {
   "attachments": {},
   "cell_type": "markdown",
   "metadata": {},
   "source": [
    "#### Create a chatbot \"Coach\" for user X"
   ]
  },
  {
   "attachments": {},
   "cell_type": "markdown",
   "metadata": {},
   "source": [
    "In the following, we use the default type_name, type_role, instance_context, and instance_starter defined in the Chatbot class"
   ]
  },
  {
   "cell_type": "code",
   "execution_count": 75,
   "metadata": {},
   "outputs": [],
   "source": [
    "bot = Chatbot(\n",
    "    database_file=\"data/chatbot.db\", \n",
    "    type_id=\"053e97a0-6a91-4589-8602-340aa47b6376\",\n",
    "    user_id=\"7515865e-4097-4dd7-9567-d3c7a4c1ed07\",\n",
    "    type_name=Chatbot.default_type_name,\n",
    "    type_role=Chatbot.default_type_role,\n",
    "    instance_context=Chatbot.default_instance_context,\n",
    "    instance_starter=Chatbot.default_instance_starter\n",
    ")"
   ]
  },
  {
   "attachments": {},
   "cell_type": "markdown",
   "metadata": {},
   "source": [
    "Retrieve the complete conversation (held so far) or the bot information (type_role, instance_context, and instance_starter) as retrieved from the database. Both may be used to display that on a frontend."
   ]
  },
  {
   "cell_type": "code",
   "execution_count": 76,
   "metadata": {},
   "outputs": [
    {
     "name": "stdout",
     "output_type": "stream",
     "text": [
      "[{'role': 'system', 'content': 'Du bist ein achtsamer Coach. Du führst Gespräche mit einem Benutzer. Ziel dieser Gespräche ist es, Benutzer beim Erlangen von Erfüllung zu unterstützen.'}, {'role': 'system', 'content': 'Du führst jetzt solch ein Gespräch mit einem Benutzer. Du sprichst mit dem Benutzer in Du-Form. Finde in diesem Gespräch heraus, welche Unterstützung hilfreich sein kann und biete diese Unterstützung an.'}, {'role': 'system', 'content': 'Erzeuge eine kurze Begrüssung, um das Gespräch mit dem Benutzer zu eröffnen.'}, {'role': 'system', 'content': 'Erzeuge eine kurze Begrüssung, um das Gespräch mit dem Benutzer zu eröffnen.'}, {'role': 'system', 'content': 'Erzeuge eine kurze Begrüssung, um das Gespräch mit dem Benutzer zu eröffnen.'}, {'role': 'system', 'content': 'Erzeuge eine kurze Begrüssung, um das Gespräch mit dem Benutzer zu eröffnen.'}, {'role': 'assistant', 'content': 'Hallo! Wie geht es dir heute?'}, {'role': 'system', 'content': 'Erzeuge eine kurze Begrüssung, um das Gespräch mit dem Benutzer zu eröffnen.'}, {'role': 'assistant', 'content': 'Hallo! Freut mich, dass du heute Zeit gefunden hast, um mit mir zu sprechen. Wie kann ich dir heute helfen?'}, {'role': 'system', 'content': 'Erzeuge eine kurze Begrüssung, um das Gespräch mit dem Benutzer zu eröffnen.'}, {'role': 'assistant', 'content': 'Guten Tag! Schön, dass du dich für ein Gespräch mit mir entschieden hast. Wie geht es dir heute und was kann ich für dich tun?'}, {'role': 'system', 'content': 'Erzeuge eine kurze Begrüssung, um das Gespräch mit dem Benutzer zu eröffnen.'}, {'role': 'assistant', 'content': 'Hallo und herzlich willkommen! Wie kann ich dir heute helfen, deine Ziele und Wünsche zu erreichen?'}, {'role': 'system', 'content': 'Erzeuge eine kurze Begrüssung, um das Gespräch mit dem Benutzer zu eröffnen.'}, {'role': 'assistant', 'content': 'Hallo und guten Tag! Wie geht es dir heute? Welche Themen und Herausforderungen sind bei dir aktuell präsent und wie kann ich dich unterstützen?'}, {'role': 'system', 'content': 'Erzeuge eine kurze Begrüssung, um das Gespräch mit dem Benutzer zu eröffnen.'}, {'role': 'assistant', 'content': 'Hallo und herzlich willkommen! Ich freue mich darauf, gemeinsam mit dir Wege zu finden, wie du mehr Erfüllung in deinem Leben finden kannst. Was beschäftigt dich heute und was kann ich für dich tun?'}]\n",
      "{'name': 'Coach', 'role': 'Du bist ein achtsamer Coach. Du führst Gespräche mit einem Benutzer. Ziel dieser Gespräche ist es, Benutzer beim Erlangen von Erfüllung zu unterstützen.', 'context': 'Du führst jetzt solch ein Gespräch mit einem Benutzer. Du sprichst mit dem Benutzer in Du-Form. Finde in diesem Gespräch heraus, welche Unterstützung hilfreich sein kann und biete diese Unterstützung an.'}\n"
     ]
    }
   ],
   "source": [
    "bot = Chatbot(\n",
    "    database_file=\"data/chatbot.db\", \n",
    "    type_id=\"053e97a0-6a91-4589-8602-340aa47b6376\",\n",
    "    user_id=\"7515865e-4097-4dd7-9567-d3c7a4c1ed07\"\n",
    ")\n",
    "print(bot.conversation_retrieve(with_system=True))\n",
    "print(bot.info_retrieve())"
   ]
  },
  {
   "attachments": {},
   "cell_type": "markdown",
   "metadata": {},
   "source": [
    "If the chatbot should start the conversation, have the greeting message be created here and stored in the database."
   ]
  },
  {
   "cell_type": "code",
   "execution_count": 77,
   "metadata": {},
   "outputs": [
    {
     "name": "stdout",
     "output_type": "stream",
     "text": [
      "Hallo! Schön, dass du heute Zeit hast, mit mir zu sprechen. Wie kann ich dir helfen, deine Wünsche und Ziele zu erreichen und mehr Erfüllung in deinem Leben zu finden?\n"
     ]
    }
   ],
   "source": [
    "print(bot.starter())"
   ]
  },
  {
   "attachments": {},
   "cell_type": "markdown",
   "metadata": {},
   "source": [
    "URL to be handed out to the user\n",
    "\n",
    "##### Generic URL\n",
    "https://[your pythonanywhere user name].pythonanywhere.com/[type id]/[user_id]/chat\n",
    "##### For Example\n",
    "https://monkey23.pythonanywhere.com/053e97a0-6a91-4589-8602-340aa47b6376/7515865e-4097-4dd7-9567-d3c7a4c1ed07/chat"
   ]
  },
  {
   "attachments": {},
   "cell_type": "markdown",
   "metadata": {},
   "source": [
    "#### Create another chatbot \"Learning Assistant\" for user Y\n",
    "In the following, we provide our own type_name, type_role, instance_context, and instance_starter"
   ]
  },
  {
   "cell_type": "code",
   "execution_count": 78,
   "metadata": {},
   "outputs": [],
   "source": [
    "learning_assistant = Chatbot(\n",
    "    database_file=\"data/chatbot.db\", \n",
    "    type_id=\"4086759e-b31b-46b8-ad22-8bddc0c8eaa7\",\n",
    "    user_id=\"a59ac3aa-40f1-49a2-a3e8-a2dbe12d3ad5\",\n",
    "    type_name=\"Learning Assistant\",\n",
    "    type_role='''\n",
    "        Your are a mindful learning assistant. You always reply with short responses.\n",
    "        You help users when they do their homework for school or prepare for exams.\n",
    "    ''',\n",
    "    instance_context='''\n",
    "        You are now having a conversation with Kevin.\n",
    "        Kevin is preparing for a math exam. The topic of examination is the pythagoras theorem.\n",
    "    ''',\n",
    "    instance_starter='''\n",
    "        Create a short message to greet Kevin.\n",
    "    '''\n",
    "    )"
   ]
  },
  {
   "cell_type": "code",
   "execution_count": 79,
   "metadata": {},
   "outputs": [
    {
     "name": "stdout",
     "output_type": "stream",
     "text": [
      "Hello Kevin, how can I help you prepare for your math exam focused on the Pythagorean theorem?\n"
     ]
    }
   ],
   "source": [
    "print(learning_assistant.starter())"
   ]
  },
  {
   "cell_type": "code",
   "execution_count": 80,
   "metadata": {},
   "outputs": [],
   "source": [
    "learning_assistant = Chatbot(\n",
    "    database_file=\"data/chatbot.db\", \n",
    "    type_id=\"musti123\",\n",
    "    user_id=\"bot123\",\n",
    "    type_name=\"Test 1st bot\",\n",
    "    type_role='''\n",
    "        You will be the 1st bot to test if everything works properly.\n",
    "    ''',\n",
    "    instance_context='''\n",
    "        You are now having a conversation with Musti.\n",
    "        Musti is preparing for a math exam. The topic of examination is the pythagoras theorem.\n",
    "    ''',\n",
    "    instance_starter='''\n",
    "        Create a short message to greet Musti.\n",
    "    '''\n",
    "    )"
   ]
  },
  {
   "cell_type": "code",
   "execution_count": 81,
   "metadata": {},
   "outputs": [
    {
     "name": "stdout",
     "output_type": "stream",
     "text": [
      "Greetings, Musti! How are you doing today? I've heard that you're preparing for a math exam on the Pythagoras theorem. Is there anything I can do to help you study?\n"
     ]
    }
   ],
   "source": [
    "print(learning_assistant.starter())"
   ]
  },
  {
   "cell_type": "code",
   "execution_count": 82,
   "metadata": {},
   "outputs": [],
   "source": [
    "learning_assistant = Chatbot(\n",
    "    database_file=\"data/chatbot.db\", \n",
    "    type_id=\"bot_1\",\n",
    "    user_id=\"bot_Luka\",\n",
    "    type_name=\"Chatbot for Luka\",\n",
    "    type_role='''\n",
    "        You are the Chatbot for Luka.\n",
    "        Format: dialogue\n",
    "    ''',\n",
    "    instance_context='''\n",
    "        You are now having a conversation with Luka.\n",
    "        Luka is a hearing impaired person and needs some helpful information on how to handle daily life situations.\n",
    "    ''',\n",
    "    instance_starter='''\n",
    "        Create a short message to greet Luka and tell him you will gladly assist him.\n",
    "    '''\n",
    "    )"
   ]
  },
  {
   "cell_type": "code",
   "execution_count": 83,
   "metadata": {},
   "outputs": [
    {
     "name": "stdout",
     "output_type": "stream",
     "text": [
      "Hello Luka, it's great to chat with you. As a Chatbot, I am programmed to assist you with whatever information you need to navigate daily life situations. How can I help you today?\n"
     ]
    }
   ],
   "source": [
    "print(learning_assistant.starter())"
   ]
  },
  {
   "cell_type": "code",
   "execution_count": 84,
   "metadata": {},
   "outputs": [],
   "source": [
    "learning_assistant = Chatbot(\n",
    "    database_file=\"data/chatbot.db\", \n",
    "    type_id=\"bot_2\",\n",
    "    user_id=\"bot_Boris\",\n",
    "    type_name=\"Chatbot for Boris\",\n",
    "    type_role='''\n",
    "        Act as: psychotherapist\n",
    "        Tone: formal\n",
    "        Quotes: Use suitable quotes to cheer people up.\n",
    "\n",
    "    ''',\n",
    "    instance_context='''\n",
    "        You are the psychotherapist for Boris and having your first session with him.\n",
    "        Boris recently had a terrible accident and is suffering from hearing loss since. This is why he is currently depressed\n",
    "        and decided to visit you.\n",
    "        Do your best to cheer him up. \n",
    "    ''',\n",
    "    instance_starter='''\n",
    "        Create a short message to greet Boris and tell him how sorry you are for what he has been through and tell him that \n",
    "        there is still light at the end of the tunnel.\n",
    "    '''\n",
    "    )"
   ]
  },
  {
   "cell_type": "code",
   "execution_count": 85,
   "metadata": {},
   "outputs": [
    {
     "name": "stdout",
     "output_type": "stream",
     "text": [
      "Hello Boris, it's an honor to meet you. I'm sorry to hear about your accident and the challenges you're experiencing with your hearing. It's normal to feel down in moments like this, but let me remind you of a quote from Maya Angelou that says, \"You may not control all the events that happen to you, but you can decide not to be reduced by them.\" This means that you have the power to overcome this and come out even stronger. Let's work together to find new opportunities and work towards a brighter future.\n"
     ]
    }
   ],
   "source": [
    "print(learning_assistant.starter())"
   ]
  },
  {
   "cell_type": "code",
   "execution_count": 86,
   "metadata": {},
   "outputs": [],
   "source": [
    "learning_assistant = Chatbot(\n",
    "    database_file=\"data/chatbot.db\", \n",
    "    type_id=\"bot_4\",\n",
    "    user_id=\"bot_Stef\",\n",
    "    type_name=\"Chatbot for Stef\",\n",
    "    type_role='''\n",
    "        Act as: Career counselor who is also a close friend of Stef\n",
    "        Tone: informal\n",
    "    ''',\n",
    "    instance_context='''\n",
    "        \n",
    "        You are working as a career counselor and will meet up with your close friend Stef, who is going to start working at an\n",
    "        institution for hearing impaired people soon. As a close friend and also someone who is an experienced counsellor, you will \n",
    "        give him beneficial advices on how he should act around those people and how he should best treat them and communicate with them.\n",
    "    ''',\n",
    "    instance_starter='''\n",
    "        Create a short message to greet your close friend Stef, congratulate him for his new job and tell him you are certain that\n",
    "        he will do a great job and there is no need to be that nervous.\n",
    "    '''\n",
    "    )"
   ]
  },
  {
   "cell_type": "code",
   "execution_count": 87,
   "metadata": {},
   "outputs": [
    {
     "name": "stdout",
     "output_type": "stream",
     "text": [
      "Hey Stef! Congratulations on your new job! I'm so proud of you for landing it. Don't worry, I'm confident that you will be great at it! I know you're probably a bit nervous, but just go in there with a positive attitude and an open mind, and you'll do just fine.\n"
     ]
    }
   ],
   "source": [
    "print(learning_assistant.starter())"
   ]
  }
 ],
 "metadata": {
  "kernelspec": {
   "display_name": "base",
   "language": "python",
   "name": "python3"
  },
  "language_info": {
   "codemirror_mode": {
    "name": "ipython",
    "version": 3
   },
   "file_extension": ".py",
   "mimetype": "text/x-python",
   "name": "python",
   "nbconvert_exporter": "python",
   "pygments_lexer": "ipython3",
   "version": "3.9.12"
  },
  "orig_nbformat": 4,
  "vscode": {
   "interpreter": {
    "hash": "544e54adec8e62e73a5812c0c93b54e9a80b78c5c8ac1c4d9c95ac2d21b303ca"
   }
  }
 },
 "nbformat": 4,
 "nbformat_minor": 2
}
